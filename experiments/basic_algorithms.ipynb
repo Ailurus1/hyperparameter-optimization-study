{
 "cells": [
  {
   "cell_type": "code",
   "execution_count": null,
   "metadata": {},
   "outputs": [],
   "source": [
    "from optuna.samplers import TPESampler, RandomSampler, CmaEsSampler\n",
    "from experiments.benchmark.evaluate import Evaluator\n",
    "\n",
    "SEED = 42\n",
    "\n",
    "samplers = [\n",
    "    TPESampler(seed=SEED),\n",
    "    RandomSampler(seed=SEED),\n",
    "    CmaEsSampler(seed=SEED)\n",
    "]\n",
    "\n",
    "evaluator = Evaluator()\n",
    "evaluator.run(\n",
    "    samplers=samplers,\n",
    "    benchmarks=[\"bbob\", \"zdt\"],\n",
    "    n_trials=100,\n",
    "    n_runs=5,\n",
    "    verbose=True\n",
    ")\n",
    "\n",
    "evaluator.plot(save_path=\"benchmark_results\")"
   ]
  }
 ],
 "metadata": {
  "language_info": {
   "name": "python"
  }
 },
 "nbformat": 4,
 "nbformat_minor": 2
}
